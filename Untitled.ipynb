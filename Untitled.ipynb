{
 "cells": [
  {
   "cell_type": "code",
   "execution_count": 2,
   "metadata": {},
   "outputs": [],
   "source": [
    "from numpy import array\n",
    "from numpy import argmax\n",
    "from sklearn.preprocessing import LabelEncoder\n",
    "from sklearn.preprocessing import OneHotEncoder\n",
    "import numpy as np \n",
    "import pandas as pd \n",
    "    "
   ]
  },
  {
   "cell_type": "code",
   "execution_count": null,
   "metadata": {},
   "outputs": [],
   "source": [
    "def run(X, impute = [], ignore=[], oversample=False, OHE=[], sparse_OHE=True):\n",
    "    \"\"\"\n",
    "    Processes data frames, including scaling, oversampling, onehot encoding, and imputation\n",
    "    ags ---------\n",
    "    X: Array of pandas data frame type. Can be one data frame, or multiple of same structure \n",
    "    (i.e. train set and test test). - Required\n",
    "    impute: Bool, array of column names that should be imputed using mean method. - Default []\n",
    "    ignore: Array of column names to ignore from automatic scaling. - Default []\n",
    "    OHE: Array of columns to be processed with sklearn OneHotEncoder. - Default []\n",
    "    oversample: Bool, determines weather you would like to use smote oversampling method to balance data.\n",
    "    This is only optional with binary class targets. - Default False\n",
    "    sparse_OHE: sets sparse value in sklearn one hot encoder. - Default True\n",
    "    \"\"\"\n",
    "    column_names = X[0].columns\n",
    "    #OHE_indices = np.where(column_names.isin)\n",
    "    OHE_indices = np.isin(column_names,OHE)\n",
    "    \n",
    "    #for column in OHE:\n",
    "        \n",
    "        \n",
    "        \n",
    "    "
   ]
  }
 ],
 "metadata": {
  "kernelspec": {
   "display_name": "Python 3",
   "language": "python",
   "name": "python3"
  },
  "language_info": {
   "codemirror_mode": {
    "name": "ipython",
    "version": 3
   },
   "file_extension": ".py",
   "mimetype": "text/x-python",
   "name": "python",
   "nbconvert_exporter": "python",
   "pygments_lexer": "ipython3",
   "version": "3.7.4"
  }
 },
 "nbformat": 4,
 "nbformat_minor": 4
}
